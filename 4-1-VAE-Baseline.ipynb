{
 "cells": [
  {
   "cell_type": "code",
   "execution_count": 1,
   "id": "00983359",
   "metadata": {},
   "outputs": [
    {
     "name": "stdout",
     "output_type": "stream",
     "text": [
      "mps\n"
     ]
    }
   ],
   "source": [
    "import random, torch\n",
    "import torch.nn as nn\n",
    "import torch.nn.functional as F\n",
    "import torchvision\n",
    "import torchvision.transforms as transforms\n",
    "from torch.utils.data import DataLoader, Dataset\n",
    "import matplotlib.pyplot as plt\n",
    "import numpy as np\n",
    "import torch.optim as optim\n",
    "from tqdm import tqdm\n",
    "\n",
    "device = torch.device(\"mps\" if torch.mps.is_available() else \"cpu\")\n",
    "print(device)"
   ]
  },
  {
   "cell_type": "code",
   "execution_count": 2,
   "id": "706c2f37",
   "metadata": {},
   "outputs": [
    {
     "name": "stdout",
     "output_type": "stream",
     "text": [
      "Train batches: 313\n",
      "Test batches: 53\n"
     ]
    }
   ],
   "source": [
    "transform = transforms.Compose([\n",
    "    transforms.ToTensor(),\n",
    "    transforms.Normalize((0.5,), (0.5,))\n",
    "])\n",
    "\n",
    "trainset = torchvision.datasets.FashionMNIST(\n",
    "    root='./data', train=True, download=True, transform=transform\n",
    ")\n",
    "testset = torchvision.datasets.FashionMNIST(\n",
    "    root='./data', train=False, download=True, transform=transform\n",
    ")\n",
    "\n",
    "trainloader = DataLoader(trainset, batch_size=192, shuffle=True, num_workers=2)\n",
    "testloader  = DataLoader(testset, batch_size=192, shuffle=False, num_workers=2)\n",
    "\n",
    "print(\"Train batches:\", len(trainloader))\n",
    "print(\"Test batches:\", len(testloader))\n"
   ]
  },
  {
   "cell_type": "code",
   "execution_count": 3,
   "id": "5efa392b",
   "metadata": {},
   "outputs": [],
   "source": [
    "class VAE(nn.Module):\n",
    "    def __init__(self, latent_dim=20):\n",
    "        super(VAE, self).__init__()\n",
    "        # Encoder\n",
    "        self.enc_conv1 = nn.Conv2d(1, 32, 4, stride=2, padding=1)  # 28x28 -> 14x14\n",
    "        self.enc_conv2 = nn.Conv2d(32, 64, 4, stride=2, padding=1) # 14x14 -> 7x7\n",
    "        self.enc_fc = nn.Linear(64*7*7, 256)\n",
    "        self.fc_mu = nn.Linear(256, latent_dim)\n",
    "        self.fc_logvar = nn.Linear(256, latent_dim)\n",
    "\n",
    "        # Decoder\n",
    "        self.dec_fc = nn.Linear(latent_dim, 256)\n",
    "        self.dec_fc2 = nn.Linear(256, 64*7*7)\n",
    "        self.dec_deconv1 = nn.ConvTranspose2d(64, 32, 4, stride=2, padding=1) # 7x7 -> 14x14\n",
    "        self.dec_deconv2 = nn.ConvTranspose2d(32, 1, 4, stride=2, padding=1)  # 14x14 -> 28x28\n",
    "\n",
    "    def encode(self, x):\n",
    "        x = F.relu(self.enc_conv1(x))\n",
    "        x = F.relu(self.enc_conv2(x))\n",
    "        x = x.view(x.size(0), -1)\n",
    "        h = F.relu(self.enc_fc(x))\n",
    "        mu = self.fc_mu(h)\n",
    "        logvar = self.fc_logvar(h)\n",
    "        return mu, logvar\n",
    "\n",
    "    def reparameterize(self, mu, logvar):\n",
    "        std = torch.exp(0.5*logvar)\n",
    "        eps = torch.randn_like(std)\n",
    "        return mu + eps*std\n",
    "\n",
    "    def decode(self, z):\n",
    "        h = F.relu(self.dec_fc(z))\n",
    "        h = F.relu(self.dec_fc2(h))\n",
    "        h = h.view(-1, 64, 7, 7)\n",
    "        h = F.relu(self.dec_deconv1(h))\n",
    "        x_recon = torch.sigmoid(self.dec_deconv2(h))\n",
    "        return x_recon\n",
    "\n",
    "    def forward(self, x):\n",
    "        mu, logvar = self.encode(x)\n",
    "        z = self.reparameterize(mu, logvar)\n",
    "        return self.decode(z), mu, logvar\n"
   ]
  },
  {
   "cell_type": "code",
   "execution_count": 4,
   "id": "05511c72",
   "metadata": {},
   "outputs": [],
   "source": [
    "def mse_kl_loss(recon_batch, data, mu, logvar):\n",
    "    recon_loss = F.mse_loss(recon_batch, data, reduction='sum')  \n",
    "    kl_div = -0.5 * torch.sum(1 + logvar - mu.pow(2) - logvar.exp())\n",
    "    \n",
    "    return recon_loss + kl_div\n",
    "\n",
    "model = VAE().to(device)\n",
    "optimizer = optim.Adam(model.parameters(), lr=1e-3)"
   ]
  },
  {
   "cell_type": "code",
   "execution_count": 5,
   "id": "27d965a0",
   "metadata": {},
   "outputs": [],
   "source": [
    "def train_loop(model, trainloader, optimizer):\n",
    "    model.train()\n",
    "    total_loss = 0\n",
    "    for data, _ in trainloader:\n",
    "        data = data.to(device)\n",
    "        optimizer.zero_grad()\n",
    "        recon_batch, mu, logvar = model(data)\n",
    "        loss = mse_kl_loss(recon_batch, data, mu, logvar)\n",
    "        loss.backward()\n",
    "        total_loss += loss.item()\n",
    "        optimizer.step()\n",
    "    average_loss = total_loss / len(trainloader.dataset)\n",
    "    return average_loss\n",
    "\n",
    "def evaluate(model, testloader):\n",
    "    model.eval()\n",
    "    total_loss = 0\n",
    "    with torch.no_grad():\n",
    "        for data, _ in testloader:\n",
    "            data = data.to(device)\n",
    "            recon_batch, mu, logvar = model(data)\n",
    "            loss = mse_kl_loss(recon_batch, data, mu, logvar)\n",
    "            total_loss += loss.item()\n",
    "    average_loss = total_loss / len(testloader.dataset)\n",
    "    return average_loss"
   ]
  },
  {
   "cell_type": "code",
   "execution_count": 6,
   "id": "c03e74df",
   "metadata": {},
   "outputs": [
    {
     "name": "stdout",
     "output_type": "stream",
     "text": [
      "Epoch 1/10\n",
      "Train Loss: 528.1072588541666\n",
      "Test Loss: 497.85988720703125\n",
      "Epoch 2/10\n",
      "Train Loss: 491.06130865885416\n",
      "Test Loss: 484.59764462890627\n",
      "Epoch 3/10\n",
      "Train Loss: 484.4330972005208\n",
      "Test Loss: 481.169902734375\n",
      "Epoch 4/10\n",
      "Train Loss: 482.10899739583334\n",
      "Test Loss: 479.4986798828125\n",
      "Epoch 5/10\n",
      "Train Loss: 480.69541829427084\n",
      "Test Loss: 478.1855302734375\n",
      "Epoch 6/10\n",
      "Train Loss: 479.77866477864586\n",
      "Test Loss: 477.6038455078125\n",
      "Epoch 7/10\n",
      "Train Loss: 479.1613234375\n",
      "Test Loss: 477.0458907226562\n",
      "Epoch 8/10\n",
      "Train Loss: 478.725996875\n",
      "Test Loss: 476.60804443359376\n",
      "Epoch 9/10\n",
      "Train Loss: 478.3971392578125\n",
      "Test Loss: 476.85152900390625\n",
      "Epoch 10/10\n",
      "Train Loss: 478.11408209635414\n",
      "Test Loss: 476.095763671875\n"
     ]
    }
   ],
   "source": [
    "num_epochs = 10\n",
    "\n",
    "train_losses = []\n",
    "test_losses = []\n",
    "\n",
    "for i in range(1, num_epochs+1):\n",
    "    print(f\"Epoch {i}/{num_epochs}\")\n",
    "    train_loss = train_loop(model, trainloader, optimizer)\n",
    "    train_losses.append(train_loss)\n",
    "    print(f\"Train Loss: {train_loss}\")\n",
    "    test_loss = evaluate(model, testloader)\n",
    "    test_losses.append(test_loss)\n",
    "    print(f\"Test Loss: {test_loss}\")\n"
   ]
  },
  {
   "cell_type": "code",
   "execution_count": 8,
   "id": "4b1a92b1",
   "metadata": {},
   "outputs": [
    {
     "data": {
      "image/png": "[encoded data removed]",
      "text/plain": [
       "<Figure size 1000x500 with 1 Axes>"
      ]
     },
     "metadata": {},
     "output_type": "display_data"
    }
   ],
   "source": [
    "plt.figure(figsize=(10,5))\n",
    "plt.plot(train_losses, label=\"Train Loss\")\n",
    "plt.plot(test_losses, label=\"Test Loss\")\n",
    "plt.xlabel(\"Epoch\")\n",
    "plt.ylabel(\"Loss\")\n",
    "plt.title(\"VAE Losses\")\n",
    "plt.grid()\n",
    "plt.legend()\n",
    "plt.show()"
   ]
  }
 ],
 "metadata": {
  "kernelspec": {
   "display_name": "Python 3",
   "language": "python",
   "name": "python3"
  },
  "language_info": {
   "codemirror_mode": {
    "name": "ipython",
    "version": 3
   },
   "file_extension": ".py",
   "mimetype": "text/x-python",
   "name": "python",
   "nbconvert_exporter": "python",
   "pygments_lexer": "ipython3",
   "version": "3.13.1"
  }
 },
 "nbformat": 4,
 "nbformat_minor": 5
}
