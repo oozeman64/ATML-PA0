{
 "cells": [
  {
   "cell_type": "code",
   "execution_count": 1,
   "id": "2f4a421f",
   "metadata": {},
   "outputs": [
    {
     "name": "stdout",
     "output_type": "stream",
     "text": [
      "cuda\n"
     ]
    }
   ],
   "source": [
    "import torch\n",
    "from torch import nn\n",
    "from torch.utils.data import DataLoader, Subset\n",
    "from transformers import AutoImageProcessor, ViTModel\n",
    "from torchvision import datasets, transforms\n",
    "from PIL import Image\n",
    "from sklearn.linear_model import LogisticRegression\n",
    "from sklearn.metrics import accuracy_score\n",
    "import numpy as np\n",
    "\n",
    "device = torch.device(\"cuda\" if torch.cuda.is_available() else \"cpu\")\n",
    "print(device)"
   ]
  },
  {
   "cell_type": "code",
   "execution_count": 2,
   "id": "3c5d2428",
   "metadata": {},
   "outputs": [
    {
     "data": {
      "application/vnd.jupyter.widget-view+json": {
       "model_id": "1278f2ba06f14066bdb2f0a5edd1346e",
       "version_major": 2,
       "version_minor": 0
      },
      "text/plain": [
       "Fetching 1 files:   0%|          | 0/1 [00:00<?, ?it/s]"
      ]
     },
     "metadata": {},
     "output_type": "display_data"
    },
    {
     "name": "stderr",
     "output_type": "stream",
     "text": [
      "Fast image processor class <class 'transformers.models.vit.image_processing_vit_fast.ViTImageProcessorFast'> is available for this model. Using slow image processor class. To use the fast image processor class set `use_fast=True`.\n"
     ]
    },
    {
     "data": {
      "application/vnd.jupyter.widget-view+json": {
       "model_id": "770ea4c91e564cda9a7e582678badc0a",
       "version_major": 2,
       "version_minor": 0
      },
      "text/plain": [
       "Fetching 1 files:   0%|          | 0/1 [00:00<?, ?it/s]"
      ]
     },
     "metadata": {},
     "output_type": "display_data"
    },
    {
     "name": "stderr",
     "output_type": "stream",
     "text": [
      "Some weights of ViTModel were not initialized from the model checkpoint at google/vit-base-patch16-224 and are newly initialized: ['pooler.dense.bias', 'pooler.dense.weight']\n",
      "You should probably TRAIN this model on a down-stream task to be able to use it for predictions and inference.\n"
     ]
    }
   ],
   "source": [
    "model_name = \"google/vit-base-patch16-224\"\n",
    "image_processor = AutoImageProcessor.from_pretrained(model_name, do_rescale=False)\n",
    "model = ViTModel.from_pretrained(model_name)\n",
    "model = model.to(device)\n",
    "model.eval()\n",
    "for p in model.parameters():\n",
    "    p.requires_grad = False"
   ]
  },
  {
   "cell_type": "code",
   "execution_count": 3,
   "id": "72d14ca1",
   "metadata": {},
   "outputs": [],
   "source": [
    "transform = transforms.Compose([\n",
    "    transforms.Resize((224, 224)),\n",
    "    transforms.ToTensor()\n",
    "])\n",
    "\n",
    "train_dataset = Subset(datasets.CIFAR10(root=\"./data\", train=True, download=True, transform=transform), range(10000))\n",
    "test_dataset  = Subset(datasets.CIFAR10(root=\"./data\", train=False, download=True, transform=transform), range(2000))\n",
    "\n",
    "train_loader = DataLoader(train_dataset, batch_size=128, shuffle=False, num_workers=2)\n",
    "test_loader  = DataLoader(test_dataset, batch_size=128, shuffle=False, num_workers=2)"
   ]
  },
  {
   "cell_type": "code",
   "execution_count": null,
   "id": "a6e66406",
   "metadata": {},
   "outputs": [],
   "source": [
    "def get_representations(dataloader):\n",
    "    cls_list, mean_list, labels_list = [], [], []\n",
    "    with torch.no_grad():\n",
    "        for images, labels in dataloader:\n",
    "            pixel_values = image_processor(images=list(images), return_tensors=\"pt\")[\"pixel_values\"].to(device)\n",
    "\n",
    "            outputs = model(pixel_values)\n",
    "            hidden = outputs.last_hidden_state  # [B, num_tokens, hidden_dim]\n",
    "\n",
    "            cls_repr = hidden[:, 0, :].cpu().numpy()\n",
    "            mean_repr = hidden[:, 1:, :].mean(1).cpu().numpy()\n",
    "\n",
    "            cls_list.append(cls_repr)\n",
    "            mean_list.append(mean_repr)\n",
    "            labels_list.append(labels.numpy())\n",
    "\n",
    "    return (np.vstack(cls_list),\n",
    "            np.vstack(mean_list),\n",
    "            np.hstack(labels_list))"
   ]
  },
  {
   "cell_type": "code",
   "execution_count": 5,
   "id": "ad956fb8",
   "metadata": {},
   "outputs": [
    {
     "name": "stdout",
     "output_type": "stream",
     "text": [
      "Extracting train features...\n",
      "Extracting test features...\n"
     ]
    }
   ],
   "source": [
    "print(\"Extracting train features...\")\n",
    "train_cls, train_mean, y_train = get_representations(train_loader)\n",
    "\n",
    "print(\"Extracting test features...\")\n",
    "test_cls, test_mean, y_test = get_representations(test_loader)"
   ]
  },
  {
   "cell_type": "code",
   "execution_count": 6,
   "id": "3b959b92",
   "metadata": {},
   "outputs": [
    {
     "name": "stdout",
     "output_type": "stream",
     "text": [
      "CLS linear probe accuracy:  0.9670\n",
      "Mean linear probe accuracy: 0.9710\n"
     ]
    }
   ],
   "source": [
    "clf_cls = LogisticRegression(max_iter=2000).fit(train_cls, y_train)\n",
    "clf_mean = LogisticRegression(max_iter=2000).fit(train_mean, y_train)\n",
    "\n",
    "acc_cls = accuracy_score(y_test, clf_cls.predict(test_cls))\n",
    "acc_mean = accuracy_score(y_test, clf_mean.predict(test_mean))\n",
    "\n",
    "print(f\"CLS linear probe accuracy:  {acc_cls:.4f}\")\n",
    "print(f\"Mean linear probe accuracy: {acc_mean:.4f}\")"
   ]
  }
 ],
 "metadata": {
  "kernelspec": {
   "display_name": "Python 3",
   "language": "python",
   "name": "python3"
  },
  "language_info": {
   "codemirror_mode": {
    "name": "ipython",
    "version": 3
   },
   "file_extension": ".py",
   "mimetype": "text/x-python",
   "name": "python",
   "nbconvert_exporter": "python",
   "pygments_lexer": "ipython3",
   "version": "3.13.0"
  }
 },
 "nbformat": 4,
 "nbformat_minor": 5
}
