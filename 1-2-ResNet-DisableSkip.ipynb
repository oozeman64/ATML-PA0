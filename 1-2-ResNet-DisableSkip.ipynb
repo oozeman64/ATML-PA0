{
  "cells": [
    {
      "cell_type": "markdown",
      "id": "89f127bb",
      "metadata": {
        "id": "89f127bb"
      },
      "source": [
        "_Task 1: Inner Workings of ResNet-152_\n",
        "\n",
        "_2. Residual Connections_"
      ]
    },
    {
      "cell_type": "code",
      "execution_count": 70,
      "id": "623cab5a",
      "metadata": {
        "id": "623cab5a"
      },
      "outputs": [],
      "source": [
        "import torch\n",
        "import torch.nn as nn\n",
        "import torch.optim as optim\n",
        "import torchvision\n",
        "import torchvision.transforms as transforms\n",
        "from torchvision.models import resnet152"
      ]
    },
    {
      "cell_type": "markdown",
      "id": "11a7e7e9",
      "metadata": {
        "id": "11a7e7e9"
      },
      "source": [
        "Using pre-trained ResNet-152.\n",
        "Replacing the final classification layer to match CIFAR-10.\n",
        "Freezing the rest of the backbone so that only the classification head is trained.\n",
        "Disable skip connections in a few selected residual blocks and re-train the modified network head"
      ]
    },
    {
      "cell_type": "code",
      "execution_count": null,
      "id": "6ee7fa22",
      "metadata": {},
      "outputs": [],
      "source": [
        "def remove_skip(block):\n",
        "    orig_forward = block.forward\n",
        "\n",
        "    def forward_no_skip(x):\n",
        "        identity = torch.zeros_like(x)\n",
        "        out = block.conv1(x)\n",
        "        out = block.bn1(out)\n",
        "        out = block.relu(out)\n",
        "\n",
        "        out = block.conv2(out)\n",
        "        out = block.bn2(out)\n",
        "        out = block.relu(out)\n",
        "\n",
        "        out = block.conv3(out)\n",
        "        out = block.bn3(out)\n",
        "\n",
        "        if block.downsample is not None:\n",
        "            identity = block.downsample(x)\n",
        "\n",
        "        out = out  # <-- skip removed\n",
        "        out = block.relu(out)\n",
        "        return out\n",
        "\n",
        "    block.forward = forward_no_skip"
      ]
    },
    {
      "cell_type": "code",
      "execution_count": null,
      "id": "bbbb2dce",
      "metadata": {
        "colab": {
          "base_uri": "https://localhost:8080/"
        },
        "id": "bbbb2dce",
        "outputId": "9e69bf25-38b4-4b73-e15a-3dafd665b551"
      },
      "outputs": [
        {
          "name": "stdout",
          "output_type": "stream",
          "text": [
            "cuda\n"
          ]
        }
      ],
      "source": [
        "device = torch.device(\"cuda\" if torch.cuda.is_available() else \"cpu\")\n",
        "model = resnet152(weights='IMAGENET1K_V1')\n",
        "remove_skip(model.layer3[0])\n",
        "remove_skip(model.layer3[1])\n",
        "remove_skip(model.layer4[0])\n",
        "remove_skip(model.layer4[1])\n",
        "model.fc = nn.Linear(model.fc.in_features, 10)\n",
        "for param in model.parameters():\n",
        "    param.requires_grad = False\n",
        "for param in model.fc.parameters():\n",
        "    param.requires_grad = True\n",
        "model = model.to(device)\n",
        "print(device)"
      ]
    },
    {
      "cell_type": "markdown",
      "id": "7be91e98",
      "metadata": {
        "id": "7be91e98"
      },
      "source": [
        "Preparing dataloaders"
      ]
    },
    {
      "cell_type": "code",
      "execution_count": 72,
      "id": "c415ef8f",
      "metadata": {
        "id": "c415ef8f"
      },
      "outputs": [],
      "source": [
        "transform = transforms.Compose([\n",
        "    transforms.Resize(224),\n",
        "    transforms.ToTensor(),\n",
        "    transforms.Normalize((0.4914, 0.4822, 0.4465),\n",
        "                         (0.2023, 0.1994, 0.2010))\n",
        "])\n",
        "\n",
        "trainset = torchvision.datasets.CIFAR10(\n",
        "    root='./data', train=True, download=True, transform=transform\n",
        ")\n",
        "testset = torchvision.datasets.CIFAR10(\n",
        "    root='./data', train=False, download=True, transform=transform\n",
        ")\n",
        "\n",
        "trainloader = torch.utils.data.DataLoader(\n",
        "    trainset, batch_size=128, shuffle=True, num_workers=2\n",
        ")\n",
        "testloader = torch.utils.data.DataLoader(\n",
        "    testset, batch_size=128, shuffle=False, num_workers=2\n",
        ")"
      ]
    },
    {
      "cell_type": "code",
      "execution_count": 74,
      "id": "277ccfb7",
      "metadata": {
        "id": "277ccfb7"
      },
      "outputs": [],
      "source": [
        "criterion = nn.CrossEntropyLoss()\n",
        "optimizer = optim.SGD(model.fc.parameters(), lr=0.02, momentum=0.9)"
      ]
    },
    {
      "cell_type": "code",
      "execution_count": 75,
      "id": "79ada7a2",
      "metadata": {
        "id": "79ada7a2"
      },
      "outputs": [],
      "source": [
        "def train_epoch(model, loader, criterion, optimizer, device):\n",
        "    model.train()\n",
        "    running_loss, correct, total = 0.0, 0, 0\n",
        "\n",
        "    for inputs, labels in loader:\n",
        "        inputs, labels = inputs.to(device), labels.to(device)\n",
        "\n",
        "        optimizer.zero_grad()\n",
        "        outputs = model(inputs)\n",
        "        loss = criterion(outputs, labels)\n",
        "        loss.backward()\n",
        "        optimizer.step()\n",
        "\n",
        "        running_loss += loss.item() * inputs.size(0)\n",
        "        _, predicted = outputs.max(1)\n",
        "        total += labels.size(0)\n",
        "        correct += predicted.eq(labels).sum().item()\n",
        "\n",
        "    avg_loss = running_loss / total\n",
        "    accuracy = 100. * correct / total\n",
        "    return avg_loss, accuracy\n",
        "\n",
        "\n",
        "def evaluate(model, loader, criterion, device):\n",
        "    model.eval()\n",
        "    running_loss, correct, total = 0.0, 0, 0\n",
        "\n",
        "    with torch.no_grad():\n",
        "        for inputs, labels in loader:\n",
        "            inputs, labels = inputs.to(device), labels.to(device)\n",
        "\n",
        "            outputs = model(inputs)\n",
        "            loss = criterion(outputs, labels)\n",
        "\n",
        "            running_loss += loss.item() * inputs.size(0)\n",
        "            _, predicted = outputs.max(1)\n",
        "            total += labels.size(0)\n",
        "            correct += predicted.eq(labels).sum().item()\n",
        "\n",
        "    avg_loss = running_loss / total\n",
        "    accuracy = 100. * correct / total\n",
        "    return avg_loss, accuracy"
      ]
    },
    {
      "cell_type": "code",
      "execution_count": 76,
      "id": "2990b88d",
      "metadata": {
        "colab": {
          "base_uri": "https://localhost:8080/"
        },
        "id": "2990b88d",
        "outputId": "f0c27f50-ed72-43e0-c183-cf1a7ae9c930"
      },
      "outputs": [
        {
          "name": "stdout",
          "output_type": "stream",
          "text": [
            "Epoch 1/5\n",
            "  Train Loss: 0.6217 | Train Acc: 78.81%\n",
            "  Val   Loss: 0.5318 | Val   Acc: 81.91%\n",
            "Epoch 2/5\n",
            "  Train Loss: 0.5143 | Train Acc: 82.58%\n",
            "  Val   Loss: 0.4815 | Val   Acc: 83.66%\n",
            "Epoch 3/5\n",
            "  Train Loss: 0.4902 | Train Acc: 83.28%\n",
            "  Val   Loss: 0.5057 | Val   Acc: 83.12%\n",
            "Epoch 4/5\n",
            "  Train Loss: 0.4656 | Train Acc: 83.84%\n",
            "  Val   Loss: 0.4978 | Val   Acc: 82.97%\n",
            "Epoch 5/5\n",
            "  Train Loss: 0.4552 | Train Acc: 84.26%\n",
            "  Val   Loss: 0.4601 | Val   Acc: 84.40%\n"
          ]
        }
      ],
      "source": [
        "num_epochs = 5\n",
        "for epoch in range(num_epochs):\n",
        "    train_loss, train_acc = train_epoch(model, trainloader, criterion, optimizer, device)\n",
        "    val_loss, val_acc = evaluate(model, testloader, criterion, device)\n",
        "\n",
        "    print(f\"Epoch {epoch+1}/{num_epochs}\")\n",
        "    print(f\"  Train Loss: {train_loss:.4f} | Train Acc: {train_acc:.2f}%\")\n",
        "    print(f\"  Val   Loss: {val_loss:.4f} | Val   Acc: {val_acc:.2f}%\")"
      ]
    }
  ],
  "metadata": {
    "accelerator": "GPU",
    "colab": {
      "gpuType": "T4",
      "provenance": []
    },
    "kernelspec": {
      "display_name": "Python 3",
      "name": "python3"
    },
    "language_info": {
      "codemirror_mode": {
        "name": "ipython",
        "version": 3
      },
      "file_extension": ".py",
      "mimetype": "text/x-python",
      "name": "python",
      "nbconvert_exporter": "python",
      "pygments_lexer": "ipython3",
      "version": "3.13.1"
    }
  },
  "nbformat": 4,
  "nbformat_minor": 5
}
