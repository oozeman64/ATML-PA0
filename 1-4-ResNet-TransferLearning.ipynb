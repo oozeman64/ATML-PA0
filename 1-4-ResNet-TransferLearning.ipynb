{
  "cells": [
    {
      "cell_type": "markdown",
      "id": "89f127bb",
      "metadata": {
        "id": "89f127bb"
      },
      "source": [
        "_Task 1: Inner Workings of ResNet-152_\n",
        "\n",
        "_4. Transfer Learning_"
      ]
    },
    {
      "cell_type": "code",
      "execution_count": 1,
      "id": "623cab5a",
      "metadata": {
        "id": "623cab5a"
      },
      "outputs": [],
      "source": [
        "import torch\n",
        "import torch.nn as nn\n",
        "import torch.optim as optim\n",
        "from torch.utils.data import Dataset, DataLoader\n",
        "import torchvision\n",
        "import torchvision.transforms as transforms\n",
        "from torchvision.models import resnet152\n"
      ]
    },
    {
      "cell_type": "markdown",
      "id": "11a7e7e9",
      "metadata": {
        "id": "11a7e7e9"
      },
      "source": [
        "Using pre-trained ResNet-152 weights and default initialization for analysis."
      ]
    },
    {
      "cell_type": "code",
      "execution_count": 2,
      "id": "bbbb2dce",
      "metadata": {
        "colab": {
          "base_uri": "https://localhost:8080/"
        },
        "id": "bbbb2dce",
        "outputId": "9e69bf25-38b4-4b73-e15a-3dafd665b551"
      },
      "outputs": [
        {
          "name": "stdout",
          "output_type": "stream",
          "text": [
            "cuda\n"
          ]
        }
      ],
      "source": [
        "device = torch.device(\"cuda\" if torch.cuda.is_available() else \"cpu\")\n",
        "\n",
        "model_inet = resnet152(weights='IMAGENET1K_V1')\n",
        "model_inet.fc = nn.Linear(model_inet.fc.in_features, 10)\n",
        "for param in model_inet.parameters():\n",
        "    param.requires_grad = False\n",
        "for param in model_inet.fc.parameters():\n",
        "    param.requires_grad = True\n",
        "model_inet = model_inet.to(device)\n",
        "\n",
        "\n",
        "model_nw = resnet152(weights=None)\n",
        "model_nw.fc = nn.Linear(model_nw.fc.in_features, 10)\n",
        "for param in model_nw.parameters():\n",
        "    param.requires_grad = False\n",
        "for param in model_nw.fc.parameters():\n",
        "    param.requires_grad = True\n",
        "model_nw = model_nw.to(device)\n",
        "\n",
        "print(device)"
      ]
    },
    {
      "cell_type": "markdown",
      "id": "7be91e98",
      "metadata": {
        "id": "7be91e98"
      },
      "source": [
        "Preparing dataloaders"
      ]
    },
    {
      "cell_type": "code",
      "execution_count": 3,
      "id": "c415ef8f",
      "metadata": {
        "id": "c415ef8f"
      },
      "outputs": [],
      "source": [
        "transform = transforms.Compose([\n",
        "    transforms.Resize(224),\n",
        "    transforms.Grayscale(num_output_channels=3),\n",
        "    transforms.ToTensor(),\n",
        "    transforms.Normalize((0.5, 0.5, 0.5),\n",
        "                         (0.5, 0.5, 0.5))\n",
        "])\n",
        "\n",
        "trainset = torchvision.datasets.FashionMNIST(\n",
        "    root='./data', train=True, download=True, transform=transform\n",
        ")\n",
        "testset = torchvision.datasets.FashionMNIST(\n",
        "    root='./data', train=False, download=True, transform=transform\n",
        ")\n",
        "\n",
        "trainloader = DataLoader(trainset, batch_size=192, shuffle=True, num_workers=4)\n",
        "testloader  = DataLoader(testset, batch_size=192, shuffle=False, num_workers=4)\n"
      ]
    },
    {
      "cell_type": "code",
      "execution_count": 4,
      "id": "277ccfb7",
      "metadata": {
        "id": "277ccfb7"
      },
      "outputs": [],
      "source": [
        "criterion = nn.CrossEntropyLoss()\n",
        "\n",
        "optimizer_inet = optim.SGD(model_inet.fc.parameters(), lr=0.02, momentum=0.9)\n",
        "optimizer_nw = optim.SGD(model_nw.fc.parameters(), lr=0.02, momentum=0.9)"
      ]
    },
    {
      "cell_type": "code",
      "execution_count": 5,
      "id": "79ada7a2",
      "metadata": {
        "id": "79ada7a2"
      },
      "outputs": [],
      "source": [
        "def train_epoch(model, loader, criterion, optimizer, device):\n",
        "    model.train()\n",
        "    running_loss, correct, total = 0.0, 0, 0\n",
        "\n",
        "    for inputs, labels in loader:\n",
        "        inputs, labels = inputs.to(device), labels.to(device)\n",
        "\n",
        "        optimizer.zero_grad()\n",
        "        outputs = model(inputs)\n",
        "        loss = criterion(outputs, labels)\n",
        "        loss.backward()\n",
        "        optimizer.step()\n",
        "\n",
        "        running_loss += loss.item() * inputs.size(0)\n",
        "        _, predicted = outputs.max(1)\n",
        "        total += labels.size(0)\n",
        "        correct += predicted.eq(labels).sum().item()\n",
        "\n",
        "    avg_loss = running_loss / total\n",
        "    accuracy = 100. * correct / total\n",
        "    return avg_loss, accuracy\n",
        "\n",
        "\n",
        "def evaluate(model, loader, criterion, device):\n",
        "    model.eval()\n",
        "    running_loss, correct, total = 0.0, 0, 0\n",
        "\n",
        "    with torch.no_grad():\n",
        "        for inputs, labels in loader:\n",
        "            inputs, labels = inputs.to(device), labels.to(device)\n",
        "\n",
        "            outputs = model(inputs)\n",
        "            loss = criterion(outputs, labels)\n",
        "\n",
        "            running_loss += loss.item() * inputs.size(0)\n",
        "            _, predicted = outputs.max(1)\n",
        "            total += labels.size(0)\n",
        "            correct += predicted.eq(labels).sum().item()\n",
        "\n",
        "    avg_loss = running_loss / total\n",
        "    accuracy = 100. * correct / total\n",
        "    return avg_loss, accuracy"
      ]
    },
    {
      "cell_type": "code",
      "execution_count": 6,
      "id": "2990b88d",
      "metadata": {
        "colab": {
          "base_uri": "https://localhost:8080/"
        },
        "id": "2990b88d",
        "outputId": "f0c27f50-ed72-43e0-c183-cf1a7ae9c930"
      },
      "outputs": [
        {
          "name": "stdout",
          "output_type": "stream",
          "text": [
            "Using ImageNet weights.\n",
            "Epoch 1/5\n",
            "  Train Loss: 0.5609 | Train Acc: 80.16%\n",
            "  Val   Loss: 0.5029 | Val   Acc: 81.85%\n",
            "Epoch 2/5\n",
            "  Train Loss: 0.4347 | Train Acc: 84.35%\n",
            "  Val   Loss: 0.4296 | Val   Acc: 84.82%\n",
            "Epoch 3/5\n",
            "  Train Loss: 0.4112 | Train Acc: 85.31%\n",
            "  Val   Loss: 0.4342 | Val   Acc: 84.12%\n",
            "Epoch 4/5\n",
            "  Train Loss: 0.3960 | Train Acc: 85.66%\n",
            "  Val   Loss: 0.4065 | Val   Acc: 85.30%\n",
            "Epoch 5/5\n",
            "  Train Loss: 0.3746 | Train Acc: 86.65%\n",
            "  Val   Loss: 0.4097 | Val   Acc: 85.63%\n"
          ]
        }
      ],
      "source": [
        "num_epochs = 5\n",
        "print(\"Using ImageNet weights.\")\n",
        "for epoch in range(num_epochs):\n",
        "    train_loss, train_acc = train_epoch(model_inet, trainloader, criterion, optimizer_inet, device)\n",
        "    val_loss, val_acc = evaluate(model_inet, testloader, criterion, device)\n",
        "\n",
        "    print(f\"Epoch {epoch+1}/{num_epochs}\")\n",
        "    print(f\"  Train Loss: {train_loss:.4f} | Train Acc: {train_acc:.2f}%\")\n",
        "    print(f\"  Val   Loss: {val_loss:.4f} | Val   Acc: {val_acc:.2f}%\")"
      ]
    },
    {
      "cell_type": "code",
      "execution_count": 7,
      "id": "42539a68",
      "metadata": {},
      "outputs": [
        {
          "name": "stdout",
          "output_type": "stream",
          "text": [
            "Using randomly initialized weights.\n",
            "Epoch 1/5\n",
            "  Train Loss: 23.8095 | Train Acc: 14.30%\n",
            "  Val   Loss: 14.8177 | Val   Acc: 21.15%\n",
            "Epoch 2/5\n",
            "  Train Loss: 12.4919 | Train Acc: 24.16%\n",
            "  Val   Loss: 10.5040 | Val   Acc: 25.27%\n",
            "Epoch 3/5\n",
            "  Train Loss: 6.7194 | Train Acc: 32.31%\n",
            "  Val   Loss: 6.1345 | Val   Acc: 26.64%\n",
            "Epoch 4/5\n",
            "  Train Loss: 4.3291 | Train Acc: 38.91%\n",
            "  Val   Loss: 3.1866 | Val   Acc: 45.16%\n",
            "Epoch 5/5\n",
            "  Train Loss: 4.2665 | Train Acc: 39.00%\n",
            "  Val   Loss: 2.5595 | Val   Acc: 45.44%\n"
          ]
        }
      ],
      "source": [
        "print(\"Using randomly initialized weights.\")\n",
        "for epoch in range(num_epochs):\n",
        "    train_loss, train_acc = train_epoch(model_nw, trainloader, criterion, optimizer_nw, device)\n",
        "    val_loss, val_acc = evaluate(model_nw, testloader, criterion, device)\n",
        "\n",
        "    print(f\"Epoch {epoch+1}/{num_epochs}\")\n",
        "    print(f\"  Train Loss: {train_loss:.4f} | Train Acc: {train_acc:.2f}%\")\n",
        "    print(f\"  Val   Loss: {val_loss:.4f} | Val   Acc: {val_acc:.2f}%\")"
      ]
    }
  ],
  "metadata": {
    "accelerator": "GPU",
    "colab": {
      "gpuType": "T4",
      "provenance": []
    },
    "kernelspec": {
      "display_name": "Python 3",
      "name": "python3"
    },
    "language_info": {
      "codemirror_mode": {
        "name": "ipython",
        "version": 3
      },
      "file_extension": ".py",
      "mimetype": "text/x-python",
      "name": "python",
      "nbconvert_exporter": "python",
      "pygments_lexer": "ipython3",
      "version": "3.13.0"
    }
  },
  "nbformat": 4,
  "nbformat_minor": 5
}
