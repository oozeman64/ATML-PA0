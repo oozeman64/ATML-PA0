{
  "cells": [
    {
      "cell_type": "markdown",
      "id": "89f127bb",
      "metadata": {
        "id": "89f127bb"
      },
      "source": [
        "_Task 1: Inner Workings of ResNet-152_\n",
        "\n",
        "_4. Transfer Learning_"
      ]
    },
    {
      "cell_type": "code",
      "execution_count": 1,
      "id": "623cab5a",
      "metadata": {
        "id": "623cab5a"
      },
      "outputs": [],
      "source": [
        "import torch\n",
        "import torch.nn as nn\n",
        "import torch.optim as optim\n",
        "from torch.utils.data import Dataset, DataLoader\n",
        "import torchvision\n",
        "import torchvision.transforms as transforms\n",
        "from torchvision.models import resnet152\n",
        "import os\n",
        "from PIL import Image\n"
      ]
    },
    {
      "cell_type": "markdown",
      "id": "11a7e7e9",
      "metadata": {
        "id": "11a7e7e9"
      },
      "source": [
        "Using pre-trained ResNet-152.\n",
        "Replacing the final classification layer to match CIFAR-10.\n",
        "Freezing the rest of the backbone so that only the classification head is trained."
      ]
    },
    {
      "cell_type": "code",
      "execution_count": 2,
      "id": "bbbb2dce",
      "metadata": {
        "colab": {
          "base_uri": "https://localhost:8080/"
        },
        "id": "bbbb2dce",
        "outputId": "9e69bf25-38b4-4b73-e15a-3dafd665b551"
      },
      "outputs": [
        {
          "name": "stdout",
          "output_type": "stream",
          "text": [
            "cuda\n"
          ]
        }
      ],
      "source": [
        "device = torch.device(\"cuda\" if torch.cuda.is_available() else \"cpu\")\n",
        "model = resnet152(weights='IMAGENET1K_V1')\n",
        "model.fc = nn.Linear(model.fc.in_features, 17)\n",
        "for param in model.parameters():\n",
        "    param.requires_grad = False\n",
        "for param in model.fc.parameters():\n",
        "    param.requires_grad = True\n",
        "model = model.to(device)\n",
        "print(device)"
      ]
    },
    {
      "cell_type": "markdown",
      "id": "7be91e98",
      "metadata": {
        "id": "7be91e98"
      },
      "source": [
        "Preparing dataloaders"
      ]
    },
    {
      "cell_type": "code",
      "execution_count": 3,
      "id": "d6773c3c",
      "metadata": {},
      "outputs": [],
      "source": [
        "\n",
        "\n",
        "data_dir = './data/pets'\n",
        "train_txt = os.path.join(data_dir, 'annotations/trainval.txt')\n",
        "test_txt  = os.path.join(data_dir, 'annotations/test.txt')\n",
        "img_dir   = os.path.join(data_dir, 'images/images')\n",
        "\n",
        "def parse_txt(txt_file):\n",
        "    items = []\n",
        "    with open(txt_file) as f:\n",
        "        for line in f:\n",
        "            parts = line.strip().split()\n",
        "            img_name = parts[0] + \".jpg\"\n",
        "            label = int(parts[1]) - 1  # zero-based\n",
        "            img_path = os.path.join(img_dir, img_name)\n",
        "            items.append((img_path, label))\n",
        "    return items\n",
        "\n",
        "train_items = parse_txt(train_txt)\n",
        "test_items  = parse_txt(test_txt)\n"
      ]
    },
    {
      "cell_type": "code",
      "execution_count": 4,
      "id": "355632eb",
      "metadata": {},
      "outputs": [],
      "source": [
        "class OxfordPetDataset(Dataset):\n",
        "    def __init__(self, items, transform=None):\n",
        "        self.items = items\n",
        "        self.transform = transform\n",
        "    \n",
        "    def __len__(self):\n",
        "        return len(self.items)\n",
        "    \n",
        "    def __getitem__(self, idx):\n",
        "        path, label = self.items[idx]\n",
        "        img = Image.open(path).convert(\"RGB\")\n",
        "        if self.transform:\n",
        "            img = self.transform(img)\n",
        "        return img, label\n"
      ]
    },
    {
      "cell_type": "code",
      "execution_count": 5,
      "id": "c415ef8f",
      "metadata": {
        "id": "c415ef8f"
      },
      "outputs": [],
      "source": [
        "transform = transforms.Compose([\n",
        "    transforms.Resize(224),\n",
        "    transforms.CenterCrop(224),\n",
        "    transforms.ToTensor(),\n",
        "    transforms.Normalize((0.5,0.5,0.5),(0.5,0.5,0.5))\n",
        "])\n",
        "\n",
        "trainset = OxfordPetDataset(train_items, transform=transform)\n",
        "testset  = OxfordPetDataset(test_items, transform=transform)\n",
        "\n",
        "trainloader = DataLoader(trainset, batch_size=256, shuffle=True, num_workers=8)\n",
        "testloader  = DataLoader(testset, batch_size=256, shuffle=False, num_workers=8)\n"
      ]
    },
    {
      "cell_type": "code",
      "execution_count": 6,
      "id": "277ccfb7",
      "metadata": {
        "id": "277ccfb7"
      },
      "outputs": [],
      "source": [
        "criterion = nn.CrossEntropyLoss()\n",
        "optimizer = optim.SGD(model.fc.parameters(), lr=0.02, momentum=0.9)"
      ]
    },
    {
      "cell_type": "code",
      "execution_count": 7,
      "id": "79ada7a2",
      "metadata": {
        "id": "79ada7a2"
      },
      "outputs": [],
      "source": [
        "def train_epoch(model, loader, criterion, optimizer, device):\n",
        "    model.train()\n",
        "    running_loss, correct, total = 0.0, 0, 0\n",
        "\n",
        "    for inputs, labels in loader:\n",
        "        inputs, labels = inputs.to(device), labels.to(device)\n",
        "\n",
        "        optimizer.zero_grad()\n",
        "        outputs = model(inputs)\n",
        "        loss = criterion(outputs, labels)\n",
        "        loss.backward()\n",
        "        optimizer.step()\n",
        "\n",
        "        running_loss += loss.item() * inputs.size(0)\n",
        "        _, predicted = outputs.max(1)\n",
        "        total += labels.size(0)\n",
        "        correct += predicted.eq(labels).sum().item()\n",
        "\n",
        "    avg_loss = running_loss / total\n",
        "    accuracy = 100. * correct / total\n",
        "    return avg_loss, accuracy\n",
        "\n",
        "\n",
        "def evaluate(model, loader, criterion, device):\n",
        "    model.eval()\n",
        "    running_loss, correct, total = 0.0, 0, 0\n",
        "\n",
        "    with torch.no_grad():\n",
        "        for inputs, labels in loader:\n",
        "            inputs, labels = inputs.to(device), labels.to(device)\n",
        "\n",
        "            outputs = model(inputs)\n",
        "            loss = criterion(outputs, labels)\n",
        "\n",
        "            running_loss += loss.item() * inputs.size(0)\n",
        "            _, predicted = outputs.max(1)\n",
        "            total += labels.size(0)\n",
        "            correct += predicted.eq(labels).sum().item()\n",
        "\n",
        "    avg_loss = running_loss / total\n",
        "    accuracy = 100. * correct / total\n",
        "    return avg_loss, accuracy"
      ]
    },
    {
      "cell_type": "code",
      "execution_count": null,
      "id": "2990b88d",
      "metadata": {
        "colab": {
          "base_uri": "https://localhost:8080/"
        },
        "id": "2990b88d",
        "outputId": "f0c27f50-ed72-43e0-c183-cf1a7ae9c930"
      },
      "outputs": [],
      "source": [
        "num_epochs = 5\n",
        "for epoch in range(num_epochs):\n",
        "    train_loss, train_acc = train_epoch(model, trainloader, criterion, optimizer, device)\n",
        "    val_loss, val_acc = evaluate(model, testloader, criterion, device)\n",
        "\n",
        "    print(f\"Epoch {epoch+1}/{num_epochs}\")\n",
        "    print(f\"  Train Loss: {train_loss:.4f} | Train Acc: {train_acc:.2f}%\")\n",
        "    print(f\"  Val   Loss: {val_loss:.4f} | Val   Acc: {val_acc:.2f}%\")"
      ]
    }
  ],
  "metadata": {
    "accelerator": "GPU",
    "colab": {
      "gpuType": "T4",
      "provenance": []
    },
    "kernelspec": {
      "display_name": "Python 3",
      "name": "python3"
    },
    "language_info": {
      "codemirror_mode": {
        "name": "ipython",
        "version": 3
      },
      "file_extension": ".py",
      "mimetype": "text/x-python",
      "name": "python",
      "nbconvert_exporter": "python",
      "pygments_lexer": "ipython3",
      "version": "3.13.0"
    }
  },
  "nbformat": 4,
  "nbformat_minor": 5
}
