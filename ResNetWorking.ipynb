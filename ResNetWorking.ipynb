{
  "cells": [
    {
      "cell_type": "markdown",
      "id": "89f127bb",
      "metadata": {
        "id": "89f127bb"
      },
      "source": [
        "_Task 1: Inner Workings of ResNet-152_"
      ]
    },
    {
      "cell_type": "code",
      "execution_count": 20,
      "id": "623cab5a",
      "metadata": {
        "id": "623cab5a"
      },
      "outputs": [],
      "source": [
        "import torch\n",
        "import torch.nn as nn\n",
        "import torch.optim as optim\n",
        "import torchvision\n",
        "import torchvision.transforms as transforms\n",
        "from torchvision.models import resnet152"
      ]
    },
    {
      "cell_type": "markdown",
      "id": "11a7e7e9",
      "metadata": {
        "id": "11a7e7e9"
      },
      "source": [
        "Using pre-trained ResNet-152.\n",
        "Replacing the final classification layer to match CIFAR-10.\n",
        "Freezing the rest of the backbone so that only the classification head is trained."
      ]
    },
    {
      "cell_type": "code",
      "execution_count": 21,
      "id": "bbbb2dce",
      "metadata": {
        "id": "bbbb2dce"
      },
      "outputs": [],
      "source": [
        "device = torch.device(\"cuda\" if torch.cuda.is_available() else \"cpu\")\n",
        "model = resnet152(weights=None)\n",
        "model.conv1 = nn.Conv2d(3, 64, kernel_size=3, stride=1, padding=1, bias=False)\n",
        "model.maxpool = nn.Identity()\n",
        "model.fc = nn.Linear(model.fc.in_features, 10)\n",
        "for param in model.parameters():\n",
        "    param.requires_grad = False\n",
        "for param in model.fc.parameters():\n",
        "    param.requires_grad = True\n",
        "model = model.to(device)"
      ]
    },
    {
      "cell_type": "markdown",
      "id": "7be91e98",
      "metadata": {
        "id": "7be91e98"
      },
      "source": [
        "Preparing dataloaders"
      ]
    },
    {
      "cell_type": "code",
      "execution_count": 22,
      "id": "c415ef8f",
      "metadata": {
        "id": "c415ef8f"
      },
      "outputs": [],
      "source": [
        "transform = transforms.Compose([\n",
        "    transforms.ToTensor(),\n",
        "    transforms.Normalize((0.4914, 0.4822, 0.4465),\n",
        "                         (0.2023, 0.1994, 0.2010))\n",
        "])\n",
        "\n",
        "trainset = torchvision.datasets.CIFAR10(\n",
        "    root='./data', train=True, download=True, transform=transform\n",
        ")\n",
        "testset = torchvision.datasets.CIFAR10(\n",
        "    root='./data', train=False, download=True, transform=transform\n",
        ")\n",
        "\n",
        "trainloader = torch.utils.data.DataLoader(\n",
        "    trainset, batch_size=128, shuffle=True, num_workers=2\n",
        ")\n",
        "testloader = torch.utils.data.DataLoader(\n",
        "    testset, batch_size=128, shuffle=False, num_workers=2\n",
        ")"
      ]
    },
    {
      "cell_type": "code",
      "execution_count": 23,
      "id": "277ccfb7",
      "metadata": {
        "id": "277ccfb7"
      },
      "outputs": [],
      "source": [
        "criterion = nn.CrossEntropyLoss()\n",
        "optimizer = optim.Adam(model.fc.parameters(), lr=1e-3)"
      ]
    },
    {
      "cell_type": "code",
      "execution_count": 24,
      "id": "79ada7a2",
      "metadata": {
        "id": "79ada7a2"
      },
      "outputs": [],
      "source": [
        "def train_epoch(model, loader, criterion, optimizer, device):\n",
        "    model.train()\n",
        "    running_loss, correct, total = 0.0, 0, 0\n",
        "\n",
        "    for inputs, labels in loader:\n",
        "        inputs, labels = inputs.to(device), labels.to(device)\n",
        "\n",
        "        optimizer.zero_grad()\n",
        "        outputs = model(inputs)\n",
        "        loss = criterion(outputs, labels)\n",
        "        loss.backward()\n",
        "        optimizer.step()\n",
        "\n",
        "        running_loss += loss.item() * inputs.size(0)\n",
        "        _, predicted = outputs.max(1)\n",
        "        total += labels.size(0)\n",
        "        correct += predicted.eq(labels).sum().item()\n",
        "\n",
        "    avg_loss = running_loss / total\n",
        "    accuracy = 100. * correct / total\n",
        "    return avg_loss, accuracy\n",
        "\n",
        "\n",
        "def evaluate(model, loader, criterion, device):\n",
        "    model.eval()\n",
        "    running_loss, correct, total = 0.0, 0, 0\n",
        "\n",
        "    with torch.no_grad():\n",
        "        for inputs, labels in loader:\n",
        "            inputs, labels = inputs.to(device), labels.to(device)\n",
        "\n",
        "            with torch.cuda.amp.autocast():\n",
        "              outputs = model(inputs)\n",
        "              loss = criterion(outputs, labels)\n",
        "\n",
        "            running_loss += loss.item() * inputs.size(0)\n",
        "            _, predicted = outputs.max(1)\n",
        "            total += labels.size(0)\n",
        "            correct += predicted.eq(labels).sum().item()\n",
        "\n",
        "    avg_loss = running_loss / total\n",
        "    accuracy = 100. * correct / total\n",
        "    return avg_loss, accuracy"
      ]
    },
    {
      "cell_type": "code",
      "execution_count": 25,
      "id": "2990b88d",
      "metadata": {
        "colab": {
          "base_uri": "https://localhost:8080/"
        },
        "id": "2990b88d",
        "outputId": "78fdbf47-1b8e-4b8d-c3d5-40ad535c176b"
      },
      "outputs": [
        {
          "output_type": "stream",
          "name": "stderr",
          "text": [
            "/tmp/ipython-input-1006879542.py:32: FutureWarning: `torch.cuda.amp.autocast(args...)` is deprecated. Please use `torch.amp.autocast('cuda', args...)` instead.\n",
            "  with torch.cuda.amp.autocast():\n"
          ]
        },
        {
          "output_type": "stream",
          "name": "stdout",
          "text": [
            "Epoch 1/5\n",
            "  Train Loss: 2.3454 | Train Acc: 13.08%\n",
            "  Val   Loss: 2.3478 | Val   Acc: 14.54%\n",
            "Epoch 2/5\n",
            "  Train Loss: 2.3115 | Train Acc: 14.63%\n",
            "  Val   Loss: 2.3512 | Val   Acc: 14.14%\n",
            "Epoch 3/5\n",
            "  Train Loss: 2.3075 | Train Acc: 14.91%\n",
            "  Val   Loss: 2.2515 | Val   Acc: 16.02%\n",
            "Epoch 4/5\n",
            "  Train Loss: 2.2965 | Train Acc: 15.56%\n",
            "  Val   Loss: 2.3017 | Val   Acc: 14.88%\n",
            "Epoch 5/5\n",
            "  Train Loss: 2.3050 | Train Acc: 15.55%\n",
            "  Val   Loss: 2.3306 | Val   Acc: 16.15%\n"
          ]
        }
      ],
      "source": [
        "num_epochs = 5\n",
        "for epoch in range(num_epochs):\n",
        "    train_loss, train_acc = train_epoch(model, trainloader, criterion, optimizer, device)\n",
        "    val_loss, val_acc = evaluate(model, testloader, criterion, device)\n",
        "\n",
        "    print(f\"Epoch {epoch+1}/{num_epochs}\")\n",
        "    print(f\"  Train Loss: {train_loss:.4f} | Train Acc: {train_acc:.2f}%\")\n",
        "    print(f\"  Val   Loss: {val_loss:.4f} | Val   Acc: {val_acc:.2f}%\")"
      ]
    }
  ],
  "metadata": {
    "kernelspec": {
      "display_name": "Python 3",
      "name": "python3"
    },
    "language_info": {
      "codemirror_mode": {
        "name": "ipython",
        "version": 3
      },
      "file_extension": ".py",
      "mimetype": "text/x-python",
      "name": "python",
      "nbconvert_exporter": "python",
      "pygments_lexer": "ipython3",
      "version": "3.13.1"
    },
    "colab": {
      "provenance": [],
      "gpuType": "T4"
    },
    "accelerator": "GPU"
  },
  "nbformat": 4,
  "nbformat_minor": 5
}